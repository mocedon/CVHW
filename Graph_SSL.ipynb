{
  "nbformat": 4,
  "nbformat_minor": 0,
  "metadata": {
    "colab": {
      "provenance": [],
      "collapsed_sections": [
        "eMMOeaX0LcJb",
        "ODR6h1HrM3km",
        "b00TJ8QNLkJ3"
      ],
      "authorship_tag": "ABX9TyOv2O+TbwWZ9PY0y4hTn85s",
      "include_colab_link": true
    },
    "kernelspec": {
      "name": "python3",
      "display_name": "Python 3"
    },
    "language_info": {
      "name": "python"
    }
  },
  "cells": [
    {
      "cell_type": "markdown",
      "metadata": {
        "id": "view-in-github",
        "colab_type": "text"
      },
      "source": [
        "<a href=\"https://colab.research.google.com/github/mocedon/CVHW/blob/master/Graph_SSL.ipynb\" target=\"_parent\"><img src=\"https://colab.research.google.com/assets/colab-badge.svg\" alt=\"Open In Colab\"/></a>"
      ]
    },
    {
      "cell_type": "code",
      "source": [
        "# Connect to drive to save work\n",
        "from google.colab import drive\n",
        "drive.mount('/content/gdrive')\n",
        "%cd /content/gdrive/MyDrive/EE049064\n",
        "\n",
        "!git clone https://github.com/BIueMan/ImageSelfClustering\n",
        "!git pull\n",
        "%cd ImageSelfClustering"
      ],
      "metadata": {
        "id": "Vhpjxlqu5NtB",
        "colab": {
          "base_uri": "https://localhost:8080/"
        },
        "outputId": "b200b792-2c8c-495f-fb0b-362da8351269"
      },
      "execution_count": 1,
      "outputs": [
        {
          "output_type": "stream",
          "name": "stdout",
          "text": [
            "Mounted at /content/gdrive\n",
            "/content/gdrive/MyDrive/EE049064\n",
            "fatal: destination path 'ImageSelfClustering' already exists and is not an empty directory.\n",
            "fatal: not a git repository (or any parent up to mount point /content)\n",
            "Stopping at filesystem boundary (GIT_DISCOVERY_ACROSS_FILESYSTEM not set).\n",
            "/content/gdrive/MyDrive/EE049064/ImageSelfClustering\n"
          ]
        }
      ]
    },
    {
      "cell_type": "code",
      "source": [
        "from funcrions.graph_laplacian import weight, weight_ssl"
      ],
      "metadata": {
        "id": "1Z48nZFhRGnO"
      },
      "execution_count": 2,
      "outputs": []
    },
    {
      "cell_type": "code",
      "source": [
        "import cv2\n",
        "im = cv2.cvtColor(cv2.imread('./images/Amanita_muscaria_test.jpeg'), cv2.COLOR_BGR2RGB) / 255"
      ],
      "metadata": {
        "id": "01OP2FOfICHQ"
      },
      "execution_count": 18,
      "outputs": []
    },
    {
      "cell_type": "code",
      "source": [
        "import cv2\n",
        "im = cv2.cvtColor(cv2.imread('./images/car.jpeg'), cv2.COLOR_BGR2RGB) / 255"
      ],
      "metadata": {
        "id": "JZbC8H7VXXDt"
      },
      "execution_count": 2,
      "outputs": []
    },
    {
      "cell_type": "code",
      "execution_count": 3,
      "metadata": {
        "id": "T5Kyj79fxNV4"
      },
      "outputs": [],
      "source": [
        "import numpy as np\n",
        "import matplotlib.pyplot as plt\n",
        "import scipy.signal\n",
        "import cv2\n",
        "import time\n",
        "from google.colab.patches import cv2_imshow\n",
        "import os\n",
        "\n",
        "from sklearn.cluster import SpectralClustering\n",
        "\n",
        "# pytorch imports\n",
        "import torch\n",
        "import torch.nn as nn\n",
        "import torch.nn.functional as F\n",
        "#from torch.utils.data import DataLoader, Dataset, ConcatDataset\n",
        "from torch.utils.data import TensorDataset, DataLoader\n",
        "import torchvision"
      ]
    },
    {
      "cell_type": "markdown",
      "source": [
        "# Auxilary"
      ],
      "metadata": {
        "id": "CyMPug6W5RxL"
      }
    },
    {
      "cell_type": "code",
      "source": [
        "def toy_image(imgSz):\n",
        "  R_ = np.array([255,0,0]) / 255\n",
        "  G_ = np.array([0,255,0]) / 255\n",
        "  B_ = np.array([0,0,255]) / 255\n",
        "\n",
        "  v1 = [R_, G_, B_, R_ + G_]\n",
        "  v2 = [1, 2, 3, 4]\n",
        "\n",
        "  img = np.zeros((*imgSz ,3),dtype=np.float32)\n",
        "  ref = np.zeros(imgSz)\n",
        "\n",
        "  arr = [[img, *imgSz, v1], [ref, *imgSz, v2]]\n",
        "  for [im, H, W, v] in arr:\n",
        "    x1, y1, r1 = W // 6 , H // 4, W // 8\n",
        "    x2, y2, r2 = 3*W // 4 , H // 4, H //4\n",
        "    x3, y3, r3 = W // 4 , 3*H // 4, W // 5\n",
        "    x4, y4, r4 = 3*W // 4 , 3*H // 4, H // 6\n",
        "\n",
        "    X,Y = np.meshgrid(range(W), range(H))\n",
        "\n",
        "    im[(X-x1)**2 + (Y-y1)**2 <= r1**2] = v[0]\n",
        "    im[(X-x2)**2 + (Y-y2)**2 <= r2**2] = v[1]\n",
        "    im[(X-x3)**2 + (Y-y3)**2 <= r3**2] = v[2]\n",
        "    im[(X-x4)**2 + (Y-y4)**2 <= r4**2] = v[3]\n",
        "\n",
        "  return img, ref"
      ],
      "metadata": {
        "id": "saKO6fpI5SRt"
      },
      "execution_count": 2,
      "outputs": []
    },
    {
      "cell_type": "code",
      "source": [
        "def nullFunc(*arg):\n",
        "  return None"
      ],
      "metadata": {
        "id": "h7mykUiTaLGE"
      },
      "execution_count": 6,
      "outputs": []
    },
    {
      "cell_type": "code",
      "source": [
        "def save_img(img, imgFn):\n",
        "  return None\n",
        "\n",
        "def save_mtx(smp, mtxFn):\n",
        "  return None\n"
      ],
      "metadata": {
        "id": "VcZOFWhelmSV"
      },
      "execution_count": 7,
      "outputs": []
    },
    {
      "cell_type": "code",
      "source": [
        "def load_img(imgFn):\n",
        "  return None\n",
        "\n",
        "def load_mtx(mtxFn):\n",
        "  return None\n"
      ],
      "metadata": {
        "id": "YTxc0BQvmmWU"
      },
      "execution_count": 8,
      "outputs": []
    },
    {
      "cell_type": "code",
      "source": [
        "def show_image(image, grid=None):\n",
        "  ext = 0, image.shape[1], 0, image.shape[0]\n",
        "  plt.imshow(image, extent=ext)\n",
        "  if grid is not None:\n",
        "    \n",
        "    plt.imshow(grid, alpha=0.5, extent=ext, interpolation='nearest')\n"
      ],
      "metadata": {
        "id": "kc-LFgHjn81P"
      },
      "execution_count": 9,
      "outputs": []
    },
    {
      "cell_type": "markdown",
      "source": [
        "# Preprocess functions"
      ],
      "metadata": {
        "id": "eMMOeaX0LcJb"
      }
    },
    {
      "cell_type": "code",
      "source": [
        "class splitPatches:\n",
        "  def __init__(self, sz, st):\n",
        "    self.hig = sz[0]\n",
        "    self.wid = sz[1]\n",
        "    self.st = st\n",
        "  \n",
        "  def __call__(self, img, ref):\n",
        "    H, W = img.shape[:2]\n",
        "    h = (H - (self.hig - self.st)) // self.st\n",
        "    w = (W - (self.wid - self.st)) // self.st\n",
        "    d = 3 if len(img.shape) == 3 else 1\n",
        "    imgSplit = np.zeros((h,w, self.hig, self.wid, d), dtype=np.float32)\n",
        "    refSplit = np.zeros((h,w), dtype=np.int32)\n",
        "    for i in range(h):\n",
        "      for j in range(w):\n",
        "        imgSplit[i, j] = img[i*self.st : i*self.st + self.hig, j*self.st : j*self.st + self.wid]\n",
        "        refSplit[i, j] = ref[i*self.st + (self.hig // 2), j*self.st + (self.wid //2)]\n",
        "    return np.squeeze(imgSplit) , refSplit\n",
        "        \n",
        "\n",
        "\n",
        "\n",
        "class colorConvert:\n",
        "  def __init__(self, scheme=cv2.COLOR_RGB2GRAY):\n",
        "    self.scheme = scheme\n",
        "\n",
        "  def __call__(self, patches):\n",
        "    sz = patches.shape[:-1] if self.scheme == cv2.COLOR_RGB2GRAY else patches.shape\n",
        "    pt = np.zeros(sz, dtype=np.float32)\n",
        "    for p in range(patches.shape[0]):\n",
        "      pt[p] = cv2.cvtColor(patches[p], self.scheme)\n",
        "    return pt\n",
        "    "
      ],
      "metadata": {
        "id": "ArFTZhen6f9h"
      },
      "execution_count": 4,
      "outputs": []
    },
    {
      "cell_type": "code",
      "source": [
        "class maskLabels:\n",
        "  def __init__(self, p=0.05):\n",
        "    self.p = p\n",
        "  def __call__(self, lables, mask=None):\n",
        "    if mask is None:\n",
        "      mask = np.random.binomial(1, self.p, lables.shape)\n",
        "    smp = np.zeros(lables.shape)\n",
        "    smp[mask == 1] = lables[mask == 1]\n",
        "    return smp\n",
        "\n"
      ],
      "metadata": {
        "id": "KK_5KAE-Ek6d"
      },
      "execution_count": 4,
      "outputs": []
    },
    {
      "cell_type": "code",
      "source": [
        "img, ref = toy_image([400, 600])\n",
        "plt.figure(figsize=(30,10))\n",
        "plt.subplot(131)\n",
        "plt.imshow(img)\n",
        "plt.subplot(132)\n",
        "plt.imshow(maskLabels()(ref))\n",
        "plt.subplot(133)\n",
        "plt.imshow(ref)"
      ],
      "metadata": {
        "id": "od4m1059Mx3S"
      },
      "execution_count": null,
      "outputs": []
    },
    {
      "cell_type": "code",
      "source": [
        "splt = splitPatches((28,28),28)\n",
        "print(img.shape)\n",
        "ptc, lbl = splt(img, ref)\n",
        "ptcG = colorConvert()(ptc)\n",
        "print(\"patches shape\", ptc.shape)\n",
        "print(\"labels shape\", lbl.shape)\n",
        "print(lbl)\n",
        "plt.figure(figsize=(15,15))\n",
        "for i in range(6):\n",
        "  \n",
        "  plt.subplot(2,3,(i+1)) \n",
        "  plt.imshow(ptc[i])\n",
        "  plt.axis('off')\n",
        "\n",
        "np.save('./patches_toy', ptc)\n",
        "np.save('./toy', img)"
      ],
      "metadata": {
        "id": "hxC_DdJ1u34g"
      },
      "execution_count": null,
      "outputs": []
    },
    {
      "cell_type": "code",
      "source": [
        "def histogram(patches, bins=32):\n",
        "  pt_sz = patches.shape[0]\n",
        "  patch = patches.reshape(pt_sz, -1)\n",
        "  hist = np.zeros((pt_sz, bins))\n",
        "  min = np.min(patch)\n",
        "  max = np.max(patch)\n",
        "  patch = (patch - min) / (max - min)\n",
        "  patch = (255 * patch) // (256/bins)\n",
        "  for i, p in enumerate(patch):\n",
        "    for pix in p:\n",
        "      hist[i][int(pix)] += 1\n",
        "    \n",
        "  return hist\n"
      ],
      "metadata": {
        "id": "X81xP64iC9KG"
      },
      "execution_count": 5,
      "outputs": []
    },
    {
      "cell_type": "markdown",
      "source": [
        "## Auto encoder"
      ],
      "metadata": {
        "id": "ODR6h1HrM3km"
      }
    },
    {
      "cell_type": "code",
      "source": [
        "class AE_default(nn.Module):\n",
        "    \n",
        "    def __init__(self, input_dim=28*28, hidden_dim=256, latent_dim=10):\n",
        "        super(AE_default, self).__init__()\n",
        "        \n",
        "        self.input_dim = input_dim\n",
        "        self.hidden_dim = hidden_dim\n",
        "        self.latent_dim = latent_dim\n",
        "        \n",
        "        # define the encoder\n",
        "        self.encoder = nn.Sequential(nn.Linear(self.input_dim, self.hidden_dim),\n",
        "                                     nn.ReLU(), nn.Linear(self.hidden_dim, self.hidden_dim),\n",
        "                                     nn.ReLU(),\n",
        "                                     nn.Linear(self.hidden_dim, self.latent_dim))\n",
        "        \n",
        "        # define decoder\n",
        "        self.decoder = nn.Sequential(nn.Linear(self.latent_dim, self.hidden_dim),\n",
        "                                     nn.ReLU(),\n",
        "                                     nn.Linear(self.hidden_dim, self.hidden_dim),\n",
        "                                     nn.ReLU(),\n",
        "                                     nn.Linear(self.hidden_dim, self.input_dim),\n",
        "                                     nn.Sigmoid())\n",
        "        \n",
        "    def forward(self,x):\n",
        "        x = self.encoder(x)\n",
        "        x = self.decoder(x)\n",
        "        return x\n",
        "        \n",
        "    def latent(self, x):\n",
        "        return self.encoder(x)"
      ],
      "metadata": {
        "id": "AGx0kcclLjsw"
      },
      "execution_count": 6,
      "outputs": []
    },
    {
      "cell_type": "code",
      "source": [
        "class AEtrainer:\n",
        "\n",
        "  def __init__(self, hp):\n",
        "    self.AE = hp['AE']\n",
        "    self.hp = hp\n",
        "\n",
        "    self.crt = nn.BCELoss()\n",
        "    self.opt = torch.optim.Adam(self.AE.parameters(), lr = hp['lr'])\n",
        "\n",
        "    self.dev = torch.device('cuda:0' if torch.cuda.is_available() else 'cpu')\n",
        "  \n",
        "  def train(self, patches):\n",
        "    patch = torch.from_numpy(patches)\n",
        "    patch = patch.view(patches.shape[0], -1)\n",
        "    ds = TensorDataset(patch)\n",
        "    ld = DataLoader(ds, self.hp['batch_size'], shuffle=True)\n",
        "    for ep in range(self.hp['epochs']):\n",
        "      for [bt] in ld:\n",
        "        bt.to(self.dev)\n",
        "        out = self.AE(bt)\n",
        "        loss = self.crt(out, bt)\n",
        "\n",
        "        self.opt.zero_grad()\n",
        "        loss.backward()\n",
        "        self.opt.step()\n",
        "      if (ep % 20 == 19):\n",
        "        print(\"epoch {:3d}/{:3d} - Loss {:.4f}\".format(ep, self.hp['epochs'], loss.item()))\n",
        "\n",
        "  def latent(self, patches):\n",
        "    patch = torch.from_numpy(patches)\n",
        "    patch = patch.view(patches.shape[0], -1)\n",
        "    return self.AE.latent(patch)\n",
        "\n",
        "  def __call__(self, patches):\n",
        "    self.train(patches)\n",
        "    return self.latent(patches)\n",
        "\n",
        "  def rec(self, patches):\n",
        "    patch = torch.from_numpy(patches)\n",
        "    patch = patch.view(patches.shape[0], -1)\n",
        "    return self.AE(patch)\n",
        "\n",
        "  def show(self, patches):\n",
        "    patch = torch.from_numpy(patches)\n",
        "    sz = patch.size()\n",
        "    patch = patch.view(patches.shape[0], -1)\n",
        "    rec =self.AE(patch)\n",
        "\n",
        "    plt.subplot(211)\n",
        "    plt.imshow(patches[0])\n",
        "    plt.subplot(212)\n",
        "\n",
        "    rec = torch.reshape(rec, sz).detach().numpy()\n",
        "    plt.imshow(rec[0])\n"
      ],
      "metadata": {
        "id": "yE5S2nXjnoyZ"
      },
      "execution_count": 7,
      "outputs": []
    },
    {
      "cell_type": "markdown",
      "source": [
        "# Weight functions"
      ],
      "metadata": {
        "id": "b00TJ8QNLkJ3"
      }
    },
    {
      "cell_type": "code",
      "source": [
        "def L2dist(p1,p2):\n",
        "  return np.sum((p1 - p2) ** 2) / (p1.shape[0] ** 2)\n",
        "\n",
        "\n",
        "def wL2dist(patches, classes):\n",
        "  p = patches.shape[0]\n",
        "  w = np.zeros((p,p))\n",
        "  for i in range(p):\n",
        "    for j in range(i, p):\n",
        "      w[i,j] = L2dist(patches[i], patches[j])\n",
        "      w[j,i] = w[i,j]\n",
        "  return w\n",
        "\n",
        "def SSL(w,s):\n",
        "  p = w.shape[0]\n",
        "  m = np.max(w)\n",
        "  for i in range(p):\n",
        "    for j in range(p):\n",
        "      v = w[i,j] if ((g[i,j] == 0)) else m \n"
      ],
      "metadata": {
        "id": "4uYOmDXMLKb3"
      },
      "execution_count": 18,
      "outputs": []
    },
    {
      "cell_type": "code",
      "source": [
        "def SSL_weights(pt, lb):\n",
        "  w = weight(pt)\n",
        "  w = weight_ssl(pt, w, lb)\n",
        "  return w"
      ],
      "metadata": {
        "id": "gwNqKIorOsZQ"
      },
      "execution_count": 19,
      "outputs": []
    },
    {
      "cell_type": "markdown",
      "source": [
        "# Solve functions"
      ],
      "metadata": {
        "id": "b3FUIBbmuQK4"
      }
    },
    {
      "cell_type": "code",
      "source": [
        "def SSL_solve(w):\n",
        "  return SpectralClustering(5).fit_predict(w)"
      ],
      "metadata": {
        "id": "isdZrQ8-uTlS"
      },
      "execution_count": 20,
      "outputs": []
    },
    {
      "cell_type": "markdown",
      "source": [
        "# Compare functions"
      ],
      "metadata": {
        "id": "xH8pZ7gjuUCo"
      }
    },
    {
      "cell_type": "code",
      "source": [
        "def Compare(res, ref):\n",
        "  res = res.reshape((ref.shape[0], ref.shape[1]))\n",
        "  \n",
        "  plt.figure(figsize=(15,15))\n",
        "  \n",
        "  plt.subplot(2,1,1) \n",
        "  plt.imshow(ref)\n",
        "  plt.title('ref')\n",
        "  plt.axis('off')\n",
        "\n",
        "  \n",
        "  plt.subplot(2,1,2) \n",
        "  plt.imshow(res)\n",
        "  plt.title('res')\n",
        "  plt.axis('off')"
      ],
      "metadata": {
        "id": "UZfg6ggkVlGv"
      },
      "execution_count": 21,
      "outputs": []
    },
    {
      "cell_type": "markdown",
      "source": [
        "# Configuration class"
      ],
      "metadata": {
        "id": "7zRLVJoBuhfB"
      }
    },
    {
      "cell_type": "code",
      "source": [
        "def defaultDict(ptz=32):\n",
        "  dct = {'name': 'imageDir', \n",
        "         'patchSize': (ptz,ptz),\n",
        "         'patchStep': ptz,\n",
        "         # AE model\n",
        "         'AE': AE_default(3*ptz*ptz, ptz , ptz // 4),\n",
        "         'lr': 0.001,\n",
        "         'epochs' : 100,\n",
        "         'batch_size': 128}\n",
        "  return dct"
      ],
      "metadata": {
        "id": "CTcs1aF37Ep7"
      },
      "execution_count": 8,
      "outputs": []
    },
    {
      "cell_type": "code",
      "source": [
        "class configuration:\n",
        "  def __init__(self, dct=defaultDict()):\n",
        "    self.dct = dct\n",
        "\n",
        "    dn = os.path.join(os.getcwd(), dct['name'])\n",
        "    patchSize = dct['patchSize']\n",
        "    patchStep = dct['patchStep']\n",
        "\n",
        "\n",
        "    self.imgFn = os.path.join(dn, 'image')\n",
        "    self.smpFn = os.path.join(dn, 'sample')\n",
        "    self.refFn = os.path.join(dn, 'ref')\n",
        "    self.ptcFn = os.path.join(dn, 'patches', 'pt')\n",
        "    self.aenFn = os.path.join(dn, 'patches', 'ae')\n",
        "    self.wgtFn = os.path.join(dn, 'weights')\n",
        "    self.resFn = os.path.join(dn, 'result')\n",
        "    self.errFn = os.path.join(dn, 'err')\n",
        "\n",
        "    self.splitFunc = dct.get(\"splitFunc\", splitPatches(patchSize, patchStep))\n",
        "    self.maskFunc = dct.get(\"maskFunc\", maskLabels())\n",
        "    self.preprocFunc = dct.get(\"preprocFunc\", colorConvert())\n",
        "    self.weightFunc = dct.get(\"weightFunc\", SSL_weights)\n",
        "    self.solveFunc = dct.get(\"solveFunc\", SSL_solve)\n",
        "    self.compareFunc = dct.get(\"compareFunc\", nullFunc)\n",
        "\n",
        "  def __getitem__(self, item):\n",
        "    return self.dct[item]\n",
        "\n",
        "  def __setitem__(self, item, val):\n",
        "    self.dct[item] = val"
      ],
      "metadata": {
        "id": "MW1pxmU3CQ7w"
      },
      "execution_count": 23,
      "outputs": []
    },
    {
      "cell_type": "markdown",
      "source": [
        "# Image class"
      ],
      "metadata": {
        "id": "ceseuOTcCovj"
      }
    },
    {
      "cell_type": "code",
      "source": [
        "class Image:\n",
        "  def __init__(self, img=None, ref=None, config=configuration()):\n",
        "    self.config = config\n",
        "\n",
        "    self.patches = None\n",
        "    self.weight = None\n",
        "    self.result = None\n",
        "    self.error = None\n",
        "\n",
        "    self.load(config)\n",
        "\n",
        "    if img is not None:\n",
        "      self.image = img\n",
        "    if ref is not None:\n",
        "      self.ref = ref\n",
        "\n",
        "    if self.image is None:\n",
        "      print(\"No input image given\")\n",
        "\n",
        "  def Preprocess(self):\n",
        "    imgSplit, refSplit = self.splitFunc(self.image, self.ref)\n",
        "    self.patches = self.preprocFunc(imgSplit)\n",
        "    self.labels = self.maskFunc(refSplit)\n",
        "\n",
        "  def CalcWeights(self):\n",
        "    if self.patches is None:\n",
        "      print(\"Patches don't exist\")\n",
        "    else:\n",
        "      print(\"weight calc\")\n",
        "      self.weight = self.weightFunc(self.patches, self.labels)\n",
        "\n",
        "  def Solve(self):\n",
        "    if self.weight is None:\n",
        "      print(\"Weights don't exist\")\n",
        "    else:\n",
        "      self.result = self.solveFunc(self.weight)\n",
        "\n",
        "  def Compare(self):\n",
        "    if self.result is None:\n",
        "      print(\"Results don't exist\")\n",
        "    else:\n",
        "      if self.ref is None:\n",
        "        print(\"There is no reference\")\n",
        "      else:\n",
        "        self.error = self.compareFunc(self.result, self.ref)\n",
        "        \n",
        "  def __call__(self):\n",
        "    self.Preprocess()\n",
        "    self.CalcWeights()\n",
        "    self.Solve()\n",
        "    self.Compare()\n",
        "    self.save()\n",
        "  \n",
        "  def load(self, config):\n",
        "    self.image = load_img(self.config.imgFn)\n",
        "    self.ref = load_mtx(self.config.refFn)\n",
        "    self.patches = load_img(self.config.ptcFn)\n",
        "    self.weight = load_mtx(self.config.wgtFn)\n",
        "    self.result = load_mtx(self.config.resFn)\n",
        "\n",
        "    self.splitFunc = self.config.splitFunc\n",
        "    self.maskFunc = self.config.maskFunc\n",
        "    self.preprocFunc = self.config.preprocFunc\n",
        "    self.weightFunc = self.config.weightFunc\n",
        "    self.solveFunc = self.config.solveFunc\n",
        "    self.compareFunc = self.config.compareFunc\n",
        "\n",
        "  def save(self):\n",
        "    save_img(self.image, self.config.imgFn)\n",
        "    save_mtx(self.ref, self.config.refFn)\n",
        "    save_img(self.patches, self.config.ptcFn)\n",
        "    save_mtx(self.weight, self.config.wgtFn)\n",
        "    save_mtx(self.result, self.config.resFn)\n",
        "    save_mtx(self.error, self.config.errFn)\n",
        "\n",
        "  def show(self):\n",
        "    plt.figure(figsize=(10, 15))\n",
        "\n",
        "    plt.subplot(321)\n",
        "    show_image(self.image)\n",
        "    plt.title(\"Image\")\n",
        "    plt.axis('off')\n",
        "\n",
        "#    plt.subplot(322)\n",
        "#    show_image(self.image, self.labels)\n",
        "#    plt.title(\"Sample data\")\n",
        "#    plt.axis('off')\n",
        "#\n",
        "#    plt.subplot(323)\n",
        "#    show_image(self.image, self.result)\n",
        "#    plt.title(\"Results\")\n",
        "#    plt.axis('off')\n",
        "#\n",
        "#    plt.subplot(324)\n",
        "#    show_image(self.image, self.ref)\n",
        "#    plt.title(\"Ref\")\n",
        "#    plt.axis('off')\n",
        "#\n",
        "#    plt.subplot(313)\n",
        "#    show_image(self.image, self.error)\n",
        "#    plt.title(\"Error\")\n",
        "#    plt.axis('off')\n",
        "\n"
      ],
      "metadata": {
        "id": "j6eq1gLsEK6q"
      },
      "execution_count": 24,
      "outputs": []
    },
    {
      "cell_type": "markdown",
      "source": [
        "# Tests"
      ],
      "metadata": {
        "id": "BHKcGwOpomJA"
      }
    },
    {
      "cell_type": "code",
      "source": [
        "hp = defaultDict(28)\n",
        "hp['patchStep'] = 8\n",
        "hp['lr'] = 0.0005\n",
        "hp['epochs'] = 300\n",
        "AEt = AEtrainer(hp)\n",
        "\n",
        "\n",
        "patches, r= splitPatches((28,28),8)(im, im[:,:,0])\n",
        "print(patches.shape)\n",
        "m,n = patches.shape[0:2]\n",
        "patcheslist = patches.reshape(m*n, 28,28,3)\n",
        "plt.imshow(patcheslist[81])\n",
        "\n",
        "AEt(patcheslist)\n",
        "AEt.show(patcheslist[81:])\n"
      ],
      "metadata": {
        "colab": {
          "base_uri": "https://localhost:8080/",
          "height": 764
        },
        "id": "2cXmxHd5xc4_",
        "outputId": "daf6fe90-d2d8-4433-bb92-f323de94afed"
      },
      "execution_count": 19,
      "outputs": [
        {
          "output_type": "stream",
          "name": "stdout",
          "text": [
            "(218, 147, 28, 28, 3)\n",
            "epoch  19/300 - Loss 0.5719\n",
            "epoch  39/300 - Loss 0.5413\n",
            "epoch  59/300 - Loss 0.5491\n",
            "epoch  79/300 - Loss 0.5643\n",
            "epoch  99/300 - Loss 0.5550\n",
            "epoch 119/300 - Loss 0.5376\n",
            "epoch 139/300 - Loss 0.5603\n",
            "epoch 159/300 - Loss 0.5482\n",
            "epoch 179/300 - Loss 0.5613\n",
            "epoch 199/300 - Loss 0.5430\n",
            "epoch 219/300 - Loss 0.5702\n",
            "epoch 239/300 - Loss 0.5630\n",
            "epoch 259/300 - Loss 0.5472\n",
            "epoch 279/300 - Loss 0.5493\n",
            "epoch 299/300 - Loss 0.5765\n"
          ]
        },
        {
          "output_type": "stream",
          "name": "stderr",
          "text": [
            "<ipython-input-7-d9ffce512db6>:49: MatplotlibDeprecationWarning: Auto-removal of overlapping axes is deprecated since 3.6 and will be removed two minor releases later; explicitly call ax.remove() as needed.\n",
            "  plt.subplot(211)\n"
          ]
        },
        {
          "output_type": "display_data",
          "data": {
            "text/plain": [
              "<Figure size 640x480 with 2 Axes>"
            ],
            "image/png": "[encoded data removed]"
          },
          "metadata": {}
        }
      ]
    },
    {
      "cell_type": "code",
      "source": [
        "splt = splitPatches((28,28),28)\n",
        "patches, r= splt (im, im[:,:,0])\n",
        "m,n = patches.shape[0:2]\n",
        "\n",
        "patcheslist = patches.reshape(m*n, 28,28,3)\n",
        "AEt.show(patcheslist[400:])\n",
        "\n",
        "lt = AEt.latent(patcheslist)\n",
        "print(lt.size())\n",
        "\n",
        "lt = lt.detach().numpy()\n",
        "lt = lt.reshape(m,n, -1)\n",
        "np.save('./amanita_ae_d_28_28_lt', lt)\n",
        "\n",
        "rec = AEt.rec(patcheslist).detach().numpy()\n",
        "rec = rec.reshape(m,n,28,28,3)\n",
        "np.save('./amanita_ae_d_28_28_rec', rec)"
      ],
      "metadata": {
        "colab": {
          "base_uri": "https://localhost:8080/",
          "height": 449
        },
        "id": "gzDbjSa98XN3",
        "outputId": "96f4a946-42cd-4ba9-b186-bbb93456b984"
      },
      "execution_count": 22,
      "outputs": [
        {
          "output_type": "stream",
          "name": "stdout",
          "text": [
            "torch.Size([2646, 7])\n"
          ]
        },
        {
          "output_type": "display_data",
          "data": {
            "text/plain": [
              "<Figure size 640x480 with 2 Axes>"
            ],
            "image/png": "[encoded data removed]"
          },
          "metadata": {}
        }
      ]
    },
    {
      "cell_type": "code",
      "source": [
        "hist = histogram(patcheslist)\n",
        "print(hist.shape)\n",
        "hist = hist.reshape(m,n,-1)\n",
        "np.save('./amanita_hist_28_28_rec', hist)"
      ],
      "metadata": {
        "colab": {
          "base_uri": "https://localhost:8080/"
        },
        "id": "CmW8X5mnTR3b",
        "outputId": "873b5836-3b20-4109-cdf5-13d90895a70f"
      },
      "execution_count": 23,
      "outputs": [
        {
          "output_type": "stream",
          "name": "stdout",
          "text": [
            "(2646, 32)\n"
          ]
        }
      ]
    }
  ]
}